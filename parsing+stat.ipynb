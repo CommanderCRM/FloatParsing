{
  "cells": [
    {
      "cell_type": "code",
      "execution_count": 38,
      "metadata": {
        "colab": {
          "base_uri": "https://localhost:8080/",
          "height": 386
        },
        "id": "M3wuuOg7yvl0",
        "outputId": "c708b552-32be-48d8-f596-7ca921f6f19c"
      },
      "outputs": [
        {
          "name": "stdout",
          "output_type": "stream",
          "text": [
            "N = 314\n",
            "Min =  0.006\n",
            "Mean =  0.14627388535031846\n",
            "Max =  0.304\n",
            "Lilliefors Statistics=0.057, p=0.023\n",
            "Kolmogorov-Smirnov Statistics=0.503, p=0.000\n",
            "Shapiro-Wilk Statistics=0.985, p=0.003\n"
          ]
        },
        {
          "data": {
            "image/png": "[encoded data removed]",
            "text/plain": [
              "<Figure size 432x288 with 1 Axes>"
            ]
          },
          "metadata": {
            "needs_background": "light"
          },
          "output_type": "display_data"
        }
      ],
      "source": [
        "import numpy as np\n",
        "from scipy.stats import shapiro, kstest, norm\n",
        "from statsmodels.stats.diagnostic import lilliefors\n",
        "import pandas as pd\n",
        "import matplotlib.pyplot as plt\n",
        "\n",
        "n = 90  # файлов сколько\n",
        "\n",
        "a = np.empty((n, 0)).tolist()  # пустой массив из n подмассивов\n",
        "\n",
        "for i in range(1, 91):  # числа из файлов в массив, затем в больший массив\n",
        "    with open(str(i) + '.txt', encoding='windows-1251') as f:\n",
        "        a[i-1] = [x for x in f.read().split('[')[1].split(']')[0].split()]\n",
        "        a[i-1] = [float(x.replace(',', '.')) for x in a[i-1]]\n",
        "\n",
        "for i in range(n):  # меняем элементы массива на расстояния между ними, 0.000\n",
        "    for j in range(len(a[i])-1):\n",
        "        a[i][j] = a[i][j+1] - a[i][j]\n",
        "    a[i].pop()\n",
        "    a[i] = [round(x, 3) for x in a[i]]\n",
        "\n",
        "a = [item for sublist in a for item in sublist]\n",
        "a.sort()  # отсортированный общий массив расстояний\n",
        "\n",
        "print('N =', len(a))\n",
        "print('Min = ', min(a))\n",
        "print('Mean = ', np.mean(a))\n",
        "print('Max = ', max(a))\n",
        "\n",
        "ksstat, ksp = kstest(a, 'norm')\n",
        "swstat, swp = shapiro(a)\n",
        "lstat, lp = lilliefors(a)\n",
        "\n",
        "print('Lilliefors', 'Statistics=%.3f, p=%.3f' % (lstat, lp))\n",
        "print('Kolmogorov-Smirnov', 'Statistics=%.3f, p=%.3f' % (ksstat, ksp))\n",
        "print('Shapiro-Wilk', 'Statistics=%.3f, p=%.3f' % (swstat, swp))\n",
        "\n",
        "data = pd.Series(a)\n",
        "data.hist()\n",
        "\n",
        "x = np.linspace(min(a), max(a), 100)  # теоретическое норм. распределение\n",
        "y = norm.pdf(x, np.mean(a), np.std(a))\n",
        "plt.plot(x, y, color='red')\n",
        "\n",
        "plt.show()\n"
      ]
    }
  ],
  "metadata": {
    "colab": {
      "provenance": []
    },
    "kernelspec": {
      "display_name": "Python 3.10.8 64-bit (microsoft store)",
      "language": "python",
      "name": "python3"
    },
    "language_info": {
      "name": "python",
      "version": "3.10.8"
    },
    "vscode": {
      "interpreter": {
        "hash": "3b7e9cb8e453d6cda0fe8c8dd13f891a1f09162f0e7c66ffeae7751a7aecf00d"
      }
    }
  },
  "nbformat": 4,
  "nbformat_minor": 0
}
